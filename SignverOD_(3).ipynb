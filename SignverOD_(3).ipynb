{
  "nbformat": 4,
  "nbformat_minor": 0,
  "metadata": {
    "colab": {
      "provenance": [],
      "gpuType": "T4",
      "machine_shape": "hm"
    },
    "kernelspec": {
      "name": "python3",
      "display_name": "Python 3"
    },
    "language_info": {
      "name": "python"
    },
    "accelerator": "GPU"
  },
  "cells": [
    {
      "cell_type": "code",
      "execution_count": 1,
      "metadata": {
        "id": "AxRBACwXYJtv"
      },
      "outputs": [],
      "source": [
        "import os\n",
        "import numpy as np\n",
        "import pandas as pd\n",
        "import matplotlib.pyplot as plt\n",
        "import cv2\n",
        "from PIL import Image\n",
        "from tqdm import tqdm\n",
        "from sklearn.model_selection import train_test_split\n",
        "\n",
        "import torch\n",
        "import torch.nn as nn\n",
        "from torch.utils.data import Dataset, DataLoader\n",
        "from torchvision import transforms"
      ]
    },
    {
      "cell_type": "code",
      "source": [
        "# Step 2: Mount Google Drive if using files from there\n",
        "from google.colab import drive\n",
        "drive.mount('/content/drive')"
      ],
      "metadata": {
        "colab": {
          "base_uri": "https://localhost:8080/"
        },
        "id": "koQGzWquYRSX",
        "outputId": "3d744610-0409-4271-8581-ef9c78524dd4"
      },
      "execution_count": 2,
      "outputs": [
        {
          "output_type": "stream",
          "name": "stdout",
          "text": [
            "Drive already mounted at /content/drive; to attempt to forcibly remount, call drive.mount(\"/content/drive\", force_remount=True).\n"
          ]
        }
      ]
    },
    {
      "cell_type": "code",
      "source": [
        "# Set your dataset path\n",
        "base_path = '/content/drive/MyDrive/Colab Notebooks/archive (28)'\n",
        "images_path = os.path.join(base_path, 'images')\n",
        "train_csv_path = os.path.join(base_path, 'train.csv')\n",
        "image_ids_csv_path = os.path.join(base_path, 'image_ids.csv')"
      ],
      "metadata": {
        "id": "WxbB6D-BYfUE"
      },
      "execution_count": 3,
      "outputs": []
    },
    {
      "cell_type": "code",
      "source": [
        "train_df = pd.read_csv(train_csv_path)\n",
        "image_ids_df = pd.read_csv(image_ids_csv_path)\n",
        "\n",
        "# Merge to get filenames\n",
        "merged_df = pd.merge(train_df, image_ids_df, left_on='image_id', right_on='id')\n",
        "merged_df['file_path'] = merged_df['file_name'].apply(lambda x: os.path.join(images_path, x))\n",
        "\n",
        "# Normalize bounding boxes (x_center, y_center, width, height)\n",
        "merged_df['x_center'] = merged_df['bbox'].apply(lambda x: eval(x)[0] + eval(x)[2] / 2)\n",
        "merged_df['y_center'] = merged_df['bbox'].apply(lambda x: eval(x)[1] + eval(x)[3] / 2)\n",
        "merged_df['width'] = merged_df['bbox'].apply(lambda x: eval(x)[2])\n",
        "merged_df['height'] = merged_df['bbox'].apply(lambda x: eval(x)[3])"
      ],
      "metadata": {
        "id": "-8XKUKOkzAAe"
      },
      "execution_count": 4,
      "outputs": []
    },
    {
      "cell_type": "code",
      "source": [
        "train_df, val_df = train_test_split(merged_df, test_size=0.2, random_state=42)"
      ],
      "metadata": {
        "id": "Fup9rjOadiSi"
      },
      "execution_count": 5,
      "outputs": []
    },
    {
      "cell_type": "code",
      "source": [
        "class SignatureDataset(Dataset):\n",
        "    def __init__(self, dataframe, transform=None):\n",
        "        self.data = dataframe\n",
        "        self.transform = transform\n",
        "\n",
        "    def __len__(self):\n",
        "        return len(self.data)\n",
        "\n",
        "    def __getitem__(self, idx):\n",
        "        row = self.data.iloc[idx]\n",
        "        image = Image.open(row['file_path']).convert('RGB')\n",
        "        bbox = torch.tensor([row['x_center'], row['y_center'], row['width'], row['height']], dtype=torch.float32)\n",
        "\n",
        "        if self.transform:\n",
        "            image = self.transform(image)\n",
        "        return image, bbox\n"
      ],
      "metadata": {
        "id": "7C0HLMz0drvw"
      },
      "execution_count": 6,
      "outputs": []
    },
    {
      "cell_type": "code",
      "source": [
        "train_transform = transforms.Compose([\n",
        "    transforms.Resize((128, 128)),\n",
        "    transforms.ToTensor(),\n",
        "])\n",
        "\n",
        "val_transform = transforms.Compose([\n",
        "    transforms.Resize((128, 128)),\n",
        "    transforms.ToTensor(),\n",
        "])"
      ],
      "metadata": {
        "id": "Freb9aO8eGXd"
      },
      "execution_count": 7,
      "outputs": []
    },
    {
      "cell_type": "code",
      "source": [
        "train_dataset = SignatureDataset(train_df, transform=train_transform)\n",
        "val_dataset = SignatureDataset(val_df, transform=val_transform)\n",
        "\n",
        "train_loader = DataLoader(train_dataset, batch_size=8, shuffle=True)\n",
        "val_loader = DataLoader(val_dataset, batch_size=8)"
      ],
      "metadata": {
        "id": "zet4ky-UeJ5U"
      },
      "execution_count": 8,
      "outputs": []
    },
    {
      "cell_type": "code",
      "source": [
        "import torch.nn as nn\n",
        "import torch\n",
        "\n",
        "class ImprovedCNN(nn.Module):\n",
        "    def __init__(self):\n",
        "        super(ImprovedCNN, self).__init__()\n",
        "        self.conv = nn.Sequential(\n",
        "            nn.Conv2d(3, 32, 3, padding=1), nn.BatchNorm2d(32), nn.ReLU(),\n",
        "            nn.MaxPool2d(2),\n",
        "\n",
        "            nn.Conv2d(32, 64, 3, padding=1), nn.BatchNorm2d(64), nn.ReLU(),\n",
        "            nn.MaxPool2d(2),\n",
        "\n",
        "            nn.Conv2d(64, 128, 3, padding=1), nn.BatchNorm2d(128), nn.ReLU(),\n",
        "            nn.MaxPool2d(2),\n",
        "\n",
        "            nn.Conv2d(128, 256, 3, padding=1), nn.BatchNorm2d(256), nn.ReLU(),\n",
        "            nn.AdaptiveAvgPool2d((1, 1))\n",
        "        )\n",
        "        self.fc = nn.Sequential(\n",
        "            nn.Flatten(),\n",
        "            nn.Linear(256, 128), nn.ReLU(),\n",
        "            nn.Linear(128, 4)\n",
        "        )\n",
        "\n",
        "    def forward(self, x):\n",
        "        x = self.conv(x)\n",
        "        x = self.fc(x)\n",
        "        return x\n",
        "\n",
        "# Set device and prepare model\n",
        "device = torch.device('cuda' if torch.cuda.is_available() else 'cpu')\n",
        "model = ImprovedCNN().to(device)\n",
        "criterion = nn.MSELoss()\n",
        "optimizer = torch.optim.Adam(model.parameters(), lr=1e-3)\n"
      ],
      "metadata": {
        "id": "cM6RfIEDv2_g"
      },
      "execution_count": 9,
      "outputs": []
    },
    {
      "cell_type": "code",
      "source": [
        "num_epochs = 10  # increase if needed\n",
        "\n",
        "for epoch in range(num_epochs):\n",
        "    model.train()\n",
        "    total_loss = 0.0\n",
        "    for images, bboxes in train_loader:\n",
        "        images, bboxes = images.to(device), bboxes.to(device)\n",
        "        optimizer.zero_grad()\n",
        "        outputs = model(images)\n",
        "        loss = criterion(outputs, bboxes)\n",
        "        loss.backward()\n",
        "        optimizer.step()\n",
        "        total_loss += loss.item()\n",
        "\n",
        "    print(f\"Epoch {epoch+1}, Training Loss: {total_loss / len(train_loader):.4f}\")\n"
      ],
      "metadata": {
        "id": "gumoao5yvwYF",
        "colab": {
          "base_uri": "https://localhost:8080/"
        },
        "outputId": "c549a381-fd1e-408c-aaef-b0b9f0903c2c"
      },
      "execution_count": 10,
      "outputs": [
        {
          "output_type": "stream",
          "name": "stdout",
          "text": [
            "Epoch 1, Training Loss: 0.0310\n",
            "Epoch 2, Training Loss: 0.0293\n",
            "Epoch 3, Training Loss: 0.0285\n",
            "Epoch 4, Training Loss: 0.0282\n",
            "Epoch 5, Training Loss: 0.0281\n",
            "Epoch 6, Training Loss: 0.0278\n",
            "Epoch 7, Training Loss: 0.0276\n",
            "Epoch 8, Training Loss: 0.0272\n",
            "Epoch 9, Training Loss: 0.0271\n",
            "Epoch 10, Training Loss: 0.0267\n"
          ]
        }
      ]
    },
    {
      "cell_type": "code",
      "source": [
        "model_path = '/content/drive/My Drive/Colab Notebooks/archive (28)/signature_impcnn_model.pth'\n",
        "torch.save(model.state_dict(), model_path)\n"
      ],
      "metadata": {
        "id": "ND-8kddZeX8O"
      },
      "execution_count": 11,
      "outputs": []
    },
    {
      "cell_type": "code",
      "source": [],
      "metadata": {
        "id": "cuo68qVhuXjL"
      },
      "execution_count": 11,
      "outputs": []
    }
  ]
}